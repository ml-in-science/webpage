{
 "cells": [
  {
   "cell_type": "markdown",
   "metadata": {},
   "source": [
    "# <center> Click the poster to view the video </center>\n",
    "<i><center> Note that the talk on <b>\"Responding to disasters and enhancing 3D images with<br> synthetic datasets\"</b> is in two parts. The link for part 2 is under the poster image.\n",
    "</center></i>\n",
    "\n",
    "<table style=\"width:100%\">\n",
    "    <tr>\n",
    "        <td>\n",
    "            <p>\n",
    "          <a href=\"https://uofglasgow.zoom.us/rec/share/usp3FvKo5nJJGZXw6V7wGZUgHJzrT6a813cZ-_sIyU0FbgbFlUCJppEOziqIvY-H?startTime=1587556943000\" title=\"GANS talk\">\n",
    "            <img src=\"./imgs/GANS_big_withID.png\", style=\"width: 300px\"/>\n",
    "          </a>\n",
    "<!--                 <center><a href=\"slides1.html\">click here for slides</a></center> -->\n",
    "            </p>\n",
    "        </td>\n",
    "        <td>\n",
    "            <p>\n",
    "              <a href=\"https://uofglasgow.zoom.us/rec/play/tcd5cb_7rG03Tted4QSDU6VwW9W1LPqs13Qe-6cKzE6wVXBRZlWvY7MTYuqVpwAP8zIo7_5z4X7c-GET?startTime=1589371201000\" title=\"VAE talk\">\n",
    "                <img src=\"./imgs/VAES_small.png\", style=\"width: 300px\"/>\n",
    "              </a>\n",
    "            </p>\n",
    "        </td>\n",
    "        <td>\n",
    "            <p>\n",
    "              <a href=\"https://youtu.be/t2NGgebOY9s\" title=\"Cancer research and Asteroids talk\">\n",
    "                <img src=\"./imgs/27_05_20.png\", style=\"width: 300px\"/>\n",
    "              </a>\n",
    "            </p>\n",
    "        </td>\n",
    "    <tr>\n",
    "        <td>\n",
    "            <p>\n",
    "              <a href=\"https://youtu.be/IXPga5pNBvQ\" title=\"Disasters talk\">\n",
    "                <img src=\"./imgs/MLiS 10_06_20 small.png\", style=\"width: 300px\"/>\n",
    "                  <font size=\"5\"><b><center><a href=\"https://youtu.be/IXPga5pNBvQ\">Part1: Alex Hepburn</a></center>\n",
    "                      <center><a href=\"https://youtu.be/3h3z5XfYYY0\">Part2: Xiao Gu</a></center></b></font>\n",
    "              </a>\n",
    "            </p>\n",
    "        </td>\n",
    "        <td>\n",
    "            <p>\n",
    "              <a href=\"https://uofglasgow.zoom.us/rec/play/6JMuc7qpq203HIaR5ASDV_J4W466eKmsh3NN-vIOmk-zASZXY1WkY7ATa7fFzKn3bipjpp1fYjX2E2SY\" title=\"GP talk\">\n",
    "                <img,  src=\"./imgs/MLiS 22_07_20 small.png\", style=\"width: 300px\"/>\n",
    "              </a>\n",
    "            </p>\n",
    "        </td>\n",
    "</table>\n",
    "    \n"
   ]
  }
 ],
 "metadata": {
  "kernelspec": {
   "display_name": "Python 3",
   "language": "python",
   "name": "python3"
  },
  "language_info": {
   "codemirror_mode": {
    "name": "ipython",
    "version": 3
   },
   "file_extension": ".py",
   "mimetype": "text/x-python",
   "name": "python",
   "nbconvert_exporter": "python",
   "pygments_lexer": "ipython3",
   "version": "3.7.4"
  }
 },
 "nbformat": 4,
 "nbformat_minor": 4
}
